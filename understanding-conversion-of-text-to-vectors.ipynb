{
 "cells": [
  {
   "cell_type": "code",
   "execution_count": 1,
   "metadata": {
    "execution": {
     "iopub.execute_input": "2025-01-05T11:56:30.061792Z",
     "iopub.status.busy": "2025-01-05T11:56:30.061449Z",
     "iopub.status.idle": "2025-01-05T11:56:38.533247Z",
     "shell.execute_reply": "2025-01-05T11:56:38.531942Z",
     "shell.execute_reply.started": "2025-01-05T11:56:30.061762Z"
    },
    "trusted": true
   },
   "outputs": [],
   "source": [
    "import pandas as pd\n",
    "from concurrent.futures import ThreadPoolExecutor\n",
    "import os\n",
    "#from contractions import contractions_dict\n",
    "#import contractions\n",
    "import re\n",
    "from nltk import word_tokenize\n",
    "from nltk.corpus import stopwords\n",
    "from spacy.lang.en import STOP_WORDS as spacy_stopwords\n",
    "import spacy\n",
    "from tqdm import tqdm\n",
    "import pickle\n",
    "from sklearn.feature_extraction.text import TfidfVectorizer\n",
    "import numpy as np\n",
    "from collections import Counter"
   ]
  },
  {
   "cell_type": "code",
   "execution_count": null,
   "metadata": {
    "trusted": true
   },
   "outputs": [],
   "source": [
    "!python -m spacy download en_core_web_md"
   ]
  },
  {
   "cell_type": "code",
   "execution_count": null,
   "metadata": {
    "trusted": true
   },
   "outputs": [],
   "source": [
    "nlp = spacy.load(\"en_core_web_md\",disable=[\"ner\",\"parser\"])"
   ]
  },
  {
   "cell_type": "code",
   "execution_count": null,
   "metadata": {
    "trusted": true
   },
   "outputs": [],
   "source": [
    "combined_stopwords = set(stopwords.words('english')).union(set(spacy_stopwords))"
   ]
  },
  {
   "cell_type": "code",
   "execution_count": null,
   "metadata": {
    "trusted": true
   },
   "outputs": [],
   "source": [
    "data = pd.read_csv(\"/kaggle/input/sentiment140/training.1600000.processed.noemoticon.csv\",\n",
    "                  encoding=\"latin-1\",header=None,names=[\"sentiment\",\"id\",\"date\",\"flag\",\"username\",\"text\"])"
   ]
  },
  {
   "cell_type": "code",
   "execution_count": null,
   "metadata": {
    "trusted": true
   },
   "outputs": [],
   "source": [
    "data.head()"
   ]
  },
  {
   "cell_type": "code",
   "execution_count": null,
   "metadata": {
    "trusted": true
   },
   "outputs": [],
   "source": [
    "data.drop(labels=data.columns[1:5],axis=1,inplace=True)"
   ]
  },
  {
   "cell_type": "code",
   "execution_count": null,
   "metadata": {
    "trusted": true
   },
   "outputs": [],
   "source": [
    "data.head()"
   ]
  },
  {
   "cell_type": "code",
   "execution_count": null,
   "metadata": {
    "trusted": true
   },
   "outputs": [],
   "source": [
    "def normalize_tweet(tweet):\n",
    "\n",
    "    return tweet.lower()"
   ]
  },
  {
   "cell_type": "code",
   "execution_count": null,
   "metadata": {
    "trusted": true
   },
   "outputs": [],
   "source": [
    "with ThreadPoolExecutor(max_workers=os.cpu_count()) as pool:\n",
    "\n",
    "    data[\"text\"] = list(pool.map(normalize_tweet,data[\"text\"]))"
   ]
  },
  {
   "cell_type": "code",
   "execution_count": null,
   "metadata": {
    "trusted": true
   },
   "outputs": [],
   "source": [
    "def fix_contractions(tweet):\n",
    "\n",
    "    return contractions.fix(tweet)"
   ]
  },
  {
   "cell_type": "code",
   "execution_count": null,
   "metadata": {
    "trusted": true
   },
   "outputs": [],
   "source": [
    "with ThreadPoolExecutor(max_workers=os.cpu_count()) as pool:\n",
    "\n",
    "    data[\"text\"] = list(pool.map(fix_contractions,data[\"text\"]))"
   ]
  },
  {
   "cell_type": "code",
   "execution_count": null,
   "metadata": {
    "trusted": true
   },
   "outputs": [],
   "source": [
    "def remove_noisy_tokens(tweet):\n",
    "\n",
    "    return re.sub(pattern=r'@[a-zA-Z0-9 ]+|#[a-zA-Z0-9 ]+|\\w+:\\/{2}[\\d\\w-]+(\\.[\\d\\w-]+)*(?:(?:\\/[^\\s/]*))*|\\W+|\\d+|<(\"[^\"]*\"|\\'[^\\']*\\'|[^\\'\">])*>|_+|[^\\u0000-\\u007f]+',\n",
    "                 string=tweet,repl=\" \")"
   ]
  },
  {
   "cell_type": "code",
   "execution_count": null,
   "metadata": {
    "trusted": true
   },
   "outputs": [],
   "source": [
    "with ThreadPoolExecutor(max_workers=os.cpu_count()) as pool:\n",
    "\n",
    "    data[\"text\"] = list(pool.map(remove_noisy_tokens,data[\"text\"]))"
   ]
  },
  {
   "cell_type": "code",
   "execution_count": null,
   "metadata": {
    "trusted": true
   },
   "outputs": [],
   "source": [
    "def remove_remaining_noisy_tokens(tweet):\n",
    "\n",
    "    return re.sub(pattern=r'\\b\\w\\b|[^\\u0000-\\u007f]+|_+|\\W+',\n",
    "                 string=tweet,repl=\" \")"
   ]
  },
  {
   "cell_type": "code",
   "execution_count": null,
   "metadata": {
    "trusted": true
   },
   "outputs": [],
   "source": [
    "with ThreadPoolExecutor(max_workers=os.cpu_count()) as pool:\n",
    "\n",
    "    data[\"text\"] = list(pool.map(remove_remaining_noisy_tokens,data[\"text\"]))"
   ]
  },
  {
   "cell_type": "code",
   "execution_count": null,
   "metadata": {
    "trusted": true
   },
   "outputs": [],
   "source": [
    "with ThreadPoolExecutor(max_workers=os.cpu_count()) as pool:\n",
    "\n",
    "    data[\"text\"] = list(pool.map(word_tokenize,data[\"text\"]))"
   ]
  },
  {
   "cell_type": "code",
   "execution_count": null,
   "metadata": {
    "trusted": true
   },
   "outputs": [],
   "source": [
    "def is_stopword(token):\n",
    "\n",
    "    return token not in combined_stopwords"
   ]
  },
  {
   "cell_type": "code",
   "execution_count": null,
   "metadata": {
    "trusted": true
   },
   "outputs": [],
   "source": [
    "def remove_stopwords(tokenized_tweet):\n",
    "\n",
    "    return [token for token in tokenized_tweet if is_stopword(token)]"
   ]
  },
  {
   "cell_type": "code",
   "execution_count": null,
   "metadata": {
    "trusted": true
   },
   "outputs": [],
   "source": [
    "with ThreadPoolExecutor(max_workers=os.cpu_count()) as pool:\n",
    "\n",
    "    data[\"text\"] = list(pool.map(remove_stopwords,data[\"text\"]))"
   ]
  },
  {
   "cell_type": "code",
   "execution_count": null,
   "metadata": {
    "trusted": true
   },
   "outputs": [],
   "source": [
    "with open(\"stopwords_removed.pkl\",\"wb\") as file_handle:\n",
    "    pickle.dump(data[\"text\"],file_handle)"
   ]
  },
  {
   "cell_type": "code",
   "execution_count": null,
   "metadata": {
    "trusted": true
   },
   "outputs": [],
   "source": [
    "def lemmatize_tweet(tokenized_tweet):\n",
    "\n",
    "    raw_tweet = \" \".join(tokenized_tweet)\n",
    "    doc = nlp(raw_tweet)\n",
    "    lemmatized_tweet = list()\n",
    "\n",
    "    for token in doc:\n",
    "        lemmatized_tweet.append(token.lemma_)\n",
    "\n",
    "    return lemmatized_tweet"
   ]
  },
  {
   "cell_type": "code",
   "execution_count": null,
   "metadata": {
    "trusted": true
   },
   "outputs": [],
   "source": [
    "with ThreadPoolExecutor(max_workers=os.cpu_count()) as pool:\n",
    "\n",
    "    data[\"text\"] = list(tqdm(pool.map(lemmatize_tweet,data[\"text\"])))"
   ]
  },
  {
   "cell_type": "code",
   "execution_count": null,
   "metadata": {
    "trusted": true
   },
   "outputs": [],
   "source": [
    "with open(\"lemmatized_tweets.pkl\",\"wb\") as file_handle:\n",
    "    pickle.dump(data[\"text\"],file_handle)"
   ]
  },
  {
   "cell_type": "code",
   "execution_count": 2,
   "metadata": {
    "execution": {
     "iopub.execute_input": "2025-01-05T11:56:53.599570Z",
     "iopub.status.busy": "2025-01-05T11:56:53.598987Z",
     "iopub.status.idle": "2025-01-05T11:57:00.617119Z",
     "shell.execute_reply": "2025-01-05T11:57:00.615878Z",
     "shell.execute_reply.started": "2025-01-05T11:56:53.599536Z"
    },
    "trusted": true
   },
   "outputs": [],
   "source": [
    "data = pd.DataFrame()\n",
    "\n",
    "with open(\"lemmatized_tweets.pkl\",\"rb\") as file_handle:\n",
    "    data[\"text\"] = pickle.load(file_handle)"
   ]
  },
  {
   "cell_type": "code",
   "execution_count": 3,
   "metadata": {
    "execution": {
     "iopub.execute_input": "2025-01-05T11:57:02.621496Z",
     "iopub.status.busy": "2025-01-05T11:57:02.621119Z",
     "iopub.status.idle": "2025-01-05T11:57:03.378646Z",
     "shell.execute_reply": "2025-01-05T11:57:03.377337Z",
     "shell.execute_reply.started": "2025-01-05T11:57:02.621463Z"
    },
    "trusted": true
   },
   "outputs": [],
   "source": [
    "converted_raw_text = list(data[\"text\"].apply(lambda x: \" \".join(x)))"
   ]
  },
  {
   "cell_type": "code",
   "execution_count": 4,
   "metadata": {
    "execution": {
     "iopub.execute_input": "2025-01-05T11:57:04.703416Z",
     "iopub.status.busy": "2025-01-05T11:57:04.702956Z",
     "iopub.status.idle": "2025-01-05T11:57:04.953184Z",
     "shell.execute_reply": "2025-01-05T11:57:04.952050Z",
     "shell.execute_reply.started": "2025-01-05T11:57:04.703379Z"
    },
    "trusted": true
   },
   "outputs": [],
   "source": [
    "converted_raw_text = list(filter(lambda x: len(x) > 0,converted_raw_text))"
   ]
  },
  {
   "cell_type": "code",
   "execution_count": 5,
   "metadata": {
    "execution": {
     "iopub.execute_input": "2025-01-05T11:57:09.735509Z",
     "iopub.status.busy": "2025-01-05T11:57:09.735136Z",
     "iopub.status.idle": "2025-01-05T11:57:09.743602Z",
     "shell.execute_reply": "2025-01-05T11:57:09.742452Z",
     "shell.execute_reply.started": "2025-01-05T11:57:09.735475Z"
    },
    "trusted": true
   },
   "outputs": [
    {
     "data": {
      "text/plain": [
       "1408026"
      ]
     },
     "execution_count": 5,
     "metadata": {},
     "output_type": "execute_result"
    }
   ],
   "source": [
    "len(converted_raw_text)"
   ]
  },
  {
   "cell_type": "code",
   "execution_count": 6,
   "metadata": {
    "execution": {
     "iopub.execute_input": "2025-01-05T11:57:12.483824Z",
     "iopub.status.busy": "2025-01-05T11:57:12.483460Z",
     "iopub.status.idle": "2025-01-05T11:57:14.712077Z",
     "shell.execute_reply": "2025-01-05T11:57:14.710994Z",
     "shell.execute_reply.started": "2025-01-05T11:57:12.483794Z"
    },
    "trusted": true
   },
   "outputs": [],
   "source": [
    "vocab = set()\n",
    "\n",
    "for cleaned_tweet in converted_raw_text:\n",
    "    vocab.update(set(cleaned_tweet.split(\" \")))"
   ]
  },
  {
   "cell_type": "code",
   "execution_count": 7,
   "metadata": {
    "execution": {
     "iopub.execute_input": "2025-01-05T11:57:21.180171Z",
     "iopub.status.busy": "2025-01-05T11:57:21.179607Z",
     "iopub.status.idle": "2025-01-05T11:57:21.187032Z",
     "shell.execute_reply": "2025-01-05T11:57:21.185823Z",
     "shell.execute_reply.started": "2025-01-05T11:57:21.180112Z"
    },
    "trusted": true
   },
   "outputs": [
    {
     "data": {
      "text/plain": [
       "273488"
      ]
     },
     "execution_count": 7,
     "metadata": {},
     "output_type": "execute_result"
    }
   ],
   "source": [
    "len(vocab)"
   ]
  },
  {
   "cell_type": "code",
   "execution_count": 8,
   "metadata": {
    "execution": {
     "iopub.execute_input": "2025-01-05T11:57:23.132344Z",
     "iopub.status.busy": "2025-01-05T11:57:23.131977Z",
     "iopub.status.idle": "2025-01-05T11:57:35.495332Z",
     "shell.execute_reply": "2025-01-05T11:57:35.494386Z",
     "shell.execute_reply.started": "2025-01-05T11:57:23.132313Z"
    },
    "trusted": true
   },
   "outputs": [],
   "source": [
    "vectorizer = TfidfVectorizer()\n",
    "vectorized_text = vectorizer.fit_transform(converted_raw_text)"
   ]
  },
  {
   "cell_type": "code",
   "execution_count": 9,
   "metadata": {
    "execution": {
     "iopub.execute_input": "2025-01-05T11:57:37.932363Z",
     "iopub.status.busy": "2025-01-05T11:57:37.932016Z",
     "iopub.status.idle": "2025-01-05T11:57:37.938918Z",
     "shell.execute_reply": "2025-01-05T11:57:37.937699Z",
     "shell.execute_reply.started": "2025-01-05T11:57:37.932335Z"
    },
    "trusted": true
   },
   "outputs": [
    {
     "data": {
      "text/plain": [
       "(1408026, 273469)"
      ]
     },
     "execution_count": 9,
     "metadata": {},
     "output_type": "execute_result"
    }
   ],
   "source": [
    "vectorized_text.shape"
   ]
  },
  {
   "cell_type": "code",
   "execution_count": 14,
   "metadata": {
    "execution": {
     "execution_failed": "2025-01-05T15:04:32.253Z",
     "iopub.execute_input": "2025-01-05T11:58:20.399848Z",
     "iopub.status.busy": "2025-01-05T11:58:20.399474Z"
    },
    "trusted": true
   },
   "outputs": [],
   "source": [
    "cumulative_tfs = Counter()\n",
    "for cleaned_tweet in data[\"text\"]:\n",
    "\n",
    "    cumulative_tfs.update(cleaned_tweet)"
   ]
  },
  {
   "cell_type": "code",
   "execution_count": 17,
   "metadata": {},
   "outputs": [],
   "source": [
    "most_frequent_tokens = cumulative_tfs.most_common(30000)\n",
    "most_frequent_tokens = dict(most_frequent_tokens)\n",
    "truncated_vocab = list(most_frequent_tokens.keys())\n",
    "\n",
    "truncated_vocab2idx = dict(zip(truncated_vocab,range(len(truncated_vocab))))"
   ]
  },
  {
   "cell_type": "code",
   "execution_count": 19,
   "metadata": {},
   "outputs": [
    {
     "name": "stderr",
     "output_type": "stream",
     "text": [
      "/home/aiml-machine/AiML-projects/word_embeddings/.venv/lib/python3.12/site-packages/sklearn/feature_extraction/text.py:1368: UserWarning: Upper case characters found in vocabulary while 'lowercase' is True. These entries will not be matched with any documents\n",
      "  warnings.warn(\n"
     ]
    }
   ],
   "source": [
    "vectorizer = TfidfVectorizer(vocabulary=truncated_vocab2idx)\n",
    "vectorized_text = vectorizer.fit_transform(converted_raw_text)"
   ]
  },
  {
   "cell_type": "code",
   "execution_count": null,
   "metadata": {},
   "outputs": [],
   "source": []
  }
 ],
 "metadata": {
  "kaggle": {
   "accelerator": "none",
   "dataSources": [
    {
     "datasetId": 2477,
     "sourceId": 4140,
     "sourceType": "datasetVersion"
    },
    {
     "datasetId": 6427175,
     "sourceId": 10375914,
     "sourceType": "datasetVersion"
    }
   ],
   "dockerImageVersionId": 30822,
   "isGpuEnabled": false,
   "isInternetEnabled": true,
   "language": "python",
   "sourceType": "notebook"
  },
  "kernelspec": {
   "display_name": ".venv",
   "language": "python",
   "name": "python3"
  },
  "language_info": {
   "codemirror_mode": {
    "name": "ipython",
    "version": 3
   },
   "file_extension": ".py",
   "mimetype": "text/x-python",
   "name": "python",
   "nbconvert_exporter": "python",
   "pygments_lexer": "ipython3",
   "version": "3.12.3"
  }
 },
 "nbformat": 4,
 "nbformat_minor": 4
}
